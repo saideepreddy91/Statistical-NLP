{
 "cells": [
  {
   "cell_type": "code",
   "execution_count": 1,
   "metadata": {},
   "outputs": [],
   "source": [
    "from __future__ import division\n",
    "from __future__ import print_function\n",
    "from __future__ import absolute_import\n",
    "\n",
    "import collections\n",
    "from math import log\n",
    "import sys"
   ]
  },
  {
   "cell_type": "code",
   "execution_count": 2,
   "metadata": {},
   "outputs": [],
   "source": [
    "if sys.version_info.major > 2:\n",
    "\n",
    "    def xrange(*args, **kwargs):\n",
    "        return iter(range(*args, **kwargs))\n",
    "\n",
    "    def unicode(*args, **kwargs):\n",
    "        return str(*args, **kwargs)"
   ]
  },
  {
   "cell_type": "code",
   "execution_count": null,
   "metadata": {},
   "outputs": [],
   "source": [
    "def fit_corpus(self, corpus):\n",
    "    \"\"\"Learn the language model for the whole corpus.\n",
    "\n",
    "    The corpus consists of a list of sentences.\"\"\"\n",
    "    num_words = 0.0\n",
    "    for s in corpus:\n",
    "        num_words += len(s) + 1 # for EOS\n",
    "    self.num_words = num_words\n",
    "    for s in corpus:\n",
    "        self.fit_sentence(s)\n",
    "    #self.norm()\n",
    "    #print(self.model)\n",
    "\n",
    "def perplexity(self, corpus):\n",
    "    \"\"\"Computes the perplexity of the corpus by the model.\n",
    "\n",
    "    Assumes the model uses an EOS symbol at the end of each sentence.\n",
    "    \"\"\"\n",
    "    return pow(2.0, self.entropy(corpus))\n",
    "\n",
    "def entropy(self, corpus):\n",
    "    num_words = 0.0\n",
    "    sum_logprob = 0.0\n",
    "    for s in corpus:\n",
    "        num_words += len(s) + 1 # for EOS\n",
    "        sum_logprob += self.logprob_sentence(s)\n",
    "\n",
    "    return -(1.0/num_words)*(sum_logprob)\n",
    "\n",
    "def logprob_sentence(self, sentence):\n",
    "    p = 0.0\n",
    "    for i in xrange(len(sentence)):\n",
    "        p += self.cond_logprob(sentence[i], sentence[:i])\n",
    "    p += self.cond_logprob('END_OF_SENTENCE', sentence)\n",
    "    #print(p)\n",
    "    return p\n",
    "\n",
    "def logprob_sentence_(self, sentence):\n",
    "    #print('in logprob_sentence')\n",
    "\n",
    "    p = 0.0\n",
    "    p += self.cond_logprob(sentence[0],'*','*')\n",
    "    if len(sentence)>1:\n",
    "        p += self.cond_logprob(sentence[1],sentence[0],'*')\n",
    "    for i in range(2,len(sentence)):\n",
    "        p += self.cond_logprob(sentence[i], sentence[i-1], sentence[i-2])\n",
    "    p += self.cond_logprob('END_OF_SENTENCE', sentence[len(sentence)-1], sentence[len(sentence)-2])\n",
    "    return p"
   ]
  }
 ],
 "metadata": {
  "kernelspec": {
   "display_name": "Python 3",
   "language": "python",
   "name": "python3"
  },
  "language_info": {
   "codemirror_mode": {
    "name": "ipython",
    "version": 3
   },
   "file_extension": ".py",
   "mimetype": "text/x-python",
   "name": "python",
   "nbconvert_exporter": "python",
   "pygments_lexer": "ipython3",
   "version": "3.7.3"
  }
 },
 "nbformat": 4,
 "nbformat_minor": 2
}
