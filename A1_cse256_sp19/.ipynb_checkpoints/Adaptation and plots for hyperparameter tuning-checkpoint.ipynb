{
 "cells": [
  {
   "cell_type": "markdown",
   "metadata": {},
   "source": [
    "# Spring 2019 Statistical NLP, UCSD\n",
    "Programming Assignment 1: Language Modeling<br>\n"
   ]
  },
  {
   "cell_type": "code",
   "execution_count": 33,
   "metadata": {},
   "outputs": [],
   "source": [
    "import numpy as np\n",
    "from math import log\n",
    "import seaborn as sns\n",
    "import matplotlib.pyplot as plt\n",
    "%matplotlib inline"
   ]
  },
  {
   "cell_type": "code",
   "execution_count": 1,
   "metadata": {},
   "outputs": [],
   "source": [
    "import data as datainterface\n",
    "from generator import Sampler\n",
    "import random\n",
    "import timeit\n",
    "import nltk\n",
    "\n",
    "import matplotlib.pyplot as plt\n",
    "%matplotlib inline"
   ]
  },
  {
   "cell_type": "code",
   "execution_count": 31,
   "metadata": {},
   "outputs": [
    {
     "name": "stdout",
     "output_type": "stream",
     "text": [
      "-----------------------\n",
      "brown\n",
      "\ttest: brown/brown.test.txt\n",
      "\ttrain: brown/brown.train.txt\n",
      "\tdev: brown/brown.dev.txt\n",
      "brown  read. train: 39802 dev: 8437 test: 8533\n",
      "-----------------------\n",
      "reuters\n",
      "\tdev: reuters/reuters.dev.txt\n",
      "\ttest: reuters/reuters.test.txt\n",
      "\ttrain: reuters/reuters.train.txt\n",
      "reuters  read. train: 38169 dev: 8082 test: 8214\n",
      "-----------------------\n",
      "gutenberg\n",
      "\tdev: gutenberg/gutenberg.dev.txt\n",
      "\ttrain: gutenberg/gutenberg.train.txt\n",
      "\ttest: gutenberg/gutenberg.test.txt\n",
      "gutenberg  read. train: 68740 dev: 14729 test: 14826\n"
     ]
    }
   ],
   "source": [
    "dnames = [\"brown\", \"reuters\", \"gutenberg\"]\n",
    "datas = {}\n",
    "models = {}\n",
    "# Learn the models for each of the domains, and evaluate it\n",
    "for dname in dnames:\n",
    "    print(\"-----------------------\")\n",
    "    print(dname)\n",
    "    data = datainterface.read_texts(\"data/corpora_.tar.gz\", dname)\n",
    "    datas[dname] = data\n",
    "    model = datainterface.learn_trigram(data,  0.001 ,False)\n",
    "    models[dname] = model"
   ]
  },
  {
   "cell_type": "markdown",
   "metadata": {},
   "source": [
    "### Initial perplexity before adaptation"
   ]
  },
  {
   "cell_type": "markdown",
   "metadata": {},
   "source": [
    "#### Perplexity on brown corpus (same as training data)"
   ]
  },
  {
   "cell_type": "code",
   "execution_count": 18,
   "metadata": {},
   "outputs": [
    {
     "name": "stdout",
     "output_type": "stream",
     "text": [
      "\ttrain: 141.5991933643397\n"
     ]
    }
   ],
   "source": [
    "print(\"\\ttrain:\", models['brown'].perplexity(datas['brown'].train, 0.005))"
   ]
  },
  {
   "cell_type": "markdown",
   "metadata": {},
   "source": [
    "#### Perplexity on reuters data (trained on brown corpus)"
   ]
  },
  {
   "cell_type": "code",
   "execution_count": 19,
   "metadata": {},
   "outputs": [
    {
     "name": "stdout",
     "output_type": "stream",
     "text": [
      "\ttrain: 293.7064109816219\n"
     ]
    }
   ],
   "source": [
    "print(\"\\ttrain:\", models['brown'].perplexity(datas['reuters'].train, 0.005))"
   ]
  },
  {
   "cell_type": "markdown",
   "metadata": {},
   "source": [
    "### Take the most frequent top 5% trigrams/bigrams/unigrams from and add to the brown corpus model "
   ]
  },
  {
   "cell_type": "code",
   "execution_count": 23,
   "metadata": {},
   "outputs": [
    {
     "data": {
      "text/plain": [
       "953603"
      ]
     },
     "execution_count": 23,
     "metadata": {},
     "output_type": "execute_result"
    }
   ],
   "source": [
    "sorted_x = sorted(models['reuters'].model.items(), key=lambda kv: -kv[1])\n",
    "len(sorted_x)"
   ]
  },
  {
   "cell_type": "code",
   "execution_count": 20,
   "metadata": {},
   "outputs": [],
   "source": [
    "brown_model = models['brown']"
   ]
  },
  {
   "cell_type": "code",
   "execution_count": 28,
   "metadata": {},
   "outputs": [],
   "source": [
    "for i in range(0,50000):\n",
    "    if sorted_x[i][0] not in brown_model.model:\n",
    "        brown_model.model[sorted_x[i][0]] = sorted_x[i][1]"
   ]
  },
  {
   "cell_type": "code",
   "execution_count": 30,
   "metadata": {},
   "outputs": [
    {
     "name": "stdout",
     "output_type": "stream",
     "text": [
      "\ttrain: 141.5991933643397\n"
     ]
    }
   ],
   "source": [
    "print(\"\\ttrain:\", brown_model.perplexity(datas['brown'].train, 0.005))"
   ]
  },
  {
   "cell_type": "code",
   "execution_count": 29,
   "metadata": {},
   "outputs": [
    {
     "name": "stdout",
     "output_type": "stream",
     "text": [
      "\ttrain: 193.8937478834268\n"
     ]
    }
   ],
   "source": [
    "print(\"\\ttrain:\", brown_model.perplexity(datas['reuters'].train, 0.005))"
   ]
  },
  {
   "cell_type": "markdown",
   "metadata": {},
   "source": [
    "### take 10% of the vocabulary and add to train data"
   ]
  },
  {
   "cell_type": "code",
   "execution_count": 32,
   "metadata": {},
   "outputs": [],
   "source": [
    "for i in range(0,100000):\n",
    "    if sorted_x[i][0] not in brown_model.model:\n",
    "        brown_model.model[sorted_x[i][0]] = sorted_x[i][1]"
   ]
  },
  {
   "cell_type": "code",
   "execution_count": 33,
   "metadata": {},
   "outputs": [
    {
     "name": "stdout",
     "output_type": "stream",
     "text": [
      "\ttrain: 176.07574717735216\n"
     ]
    }
   ],
   "source": [
    "print(\"\\ttrain:\", brown_model.perplexity(datas['reuters'].train, 0.005))"
   ]
  },
  {
   "cell_type": "markdown",
   "metadata": {},
   "source": [
    "### take 20% of the vocabulary and add to train data"
   ]
  },
  {
   "cell_type": "code",
   "execution_count": 35,
   "metadata": {},
   "outputs": [],
   "source": [
    "for i in range(0,200000):\n",
    "    if sorted_x[i][0] not in brown_model.model:\n",
    "        brown_model.model[sorted_x[i][0]] = sorted_x[i][1]"
   ]
  },
  {
   "cell_type": "code",
   "execution_count": 36,
   "metadata": {},
   "outputs": [
    {
     "name": "stdout",
     "output_type": "stream",
     "text": [
      "\ttrain: 155.19307111579198\n"
     ]
    }
   ],
   "source": [
    "print(\"\\ttrain:\", brown_model.perplexity(datas['reuters'].train, 0.005))"
   ]
  },
  {
   "cell_type": "markdown",
   "metadata": {},
   "source": [
    "### take 40% of the vocabulary and add to train data"
   ]
  },
  {
   "cell_type": "code",
   "execution_count": 37,
   "metadata": {},
   "outputs": [
    {
     "name": "stdout",
     "output_type": "stream",
     "text": [
      "\ttrain: 138.16952467997163\n"
     ]
    }
   ],
   "source": [
    "for i in range(0,400000):\n",
    "    if sorted_x[i][0] not in brown_model.model:\n",
    "        brown_model.model[sorted_x[i][0]] = sorted_x[i][1]\n",
    "\n",
    "print(\"\\ttrain:\", brown_model.perplexity(datas['reuters'].train, 0.005))"
   ]
  },
  {
   "cell_type": "code",
   "execution_count": null,
   "metadata": {},
   "outputs": [],
   "source": []
  },
  {
   "cell_type": "markdown",
   "metadata": {},
   "source": [
    "### Perplexity on the data trained on Reuters corpus itself"
   ]
  },
  {
   "cell_type": "code",
   "execution_count": 34,
   "metadata": {},
   "outputs": [
    {
     "name": "stdout",
     "output_type": "stream",
     "text": [
      "\ttrain: 69.92837194230822\n"
     ]
    }
   ],
   "source": [
    "print(\"\\ttrain:\", models['reuters'].perplexity(datas['reuters'].train, 0.005))"
   ]
  },
  {
   "cell_type": "code",
   "execution_count": null,
   "metadata": {},
   "outputs": [],
   "source": []
  },
  {
   "cell_type": "markdown",
   "metadata": {},
   "source": [
    "## Plots for hyperparamters tuning"
   ]
  },
  {
   "cell_type": "code",
   "execution_count": 21,
   "metadata": {},
   "outputs": [],
   "source": [
    "import pandas as pd\n",
    "import math"
   ]
  },
  {
   "cell_type": "code",
   "execution_count": 3,
   "metadata": {},
   "outputs": [],
   "source": [
    "df = pd.read_csv('tuning_hyp.csv')"
   ]
  },
  {
   "cell_type": "code",
   "execution_count": 32,
   "metadata": {},
   "outputs": [
    {
     "data": {
      "text/html": [
       "<div>\n",
       "<style scoped>\n",
       "    .dataframe tbody tr th:only-of-type {\n",
       "        vertical-align: middle;\n",
       "    }\n",
       "\n",
       "    .dataframe tbody tr th {\n",
       "        vertical-align: top;\n",
       "    }\n",
       "\n",
       "    .dataframe thead th {\n",
       "        text-align: right;\n",
       "    }\n",
       "</style>\n",
       "<table border=\"1\" class=\"dataframe\">\n",
       "  <thead>\n",
       "    <tr style=\"text-align: right;\">\n",
       "      <th></th>\n",
       "      <th>dataset</th>\n",
       "      <th>perplexity</th>\n",
       "      <th>alpha</th>\n",
       "      <th>log_alpha</th>\n",
       "    </tr>\n",
       "  </thead>\n",
       "  <tbody>\n",
       "    <tr>\n",
       "      <th>0</th>\n",
       "      <td>brown_train</td>\n",
       "      <td>7.998141</td>\n",
       "      <td>0.0001</td>\n",
       "      <td>-9.210340</td>\n",
       "    </tr>\n",
       "    <tr>\n",
       "      <th>1</th>\n",
       "      <td>brown_dev</td>\n",
       "      <td>14.143492</td>\n",
       "      <td>0.0001</td>\n",
       "      <td>-9.210340</td>\n",
       "    </tr>\n",
       "    <tr>\n",
       "      <th>2</th>\n",
       "      <td>brown_test</td>\n",
       "      <td>14.792639</td>\n",
       "      <td>0.0001</td>\n",
       "      <td>-9.210340</td>\n",
       "    </tr>\n",
       "    <tr>\n",
       "      <th>3</th>\n",
       "      <td>reuters_train</td>\n",
       "      <td>7.030132</td>\n",
       "      <td>0.0001</td>\n",
       "      <td>-9.210340</td>\n",
       "    </tr>\n",
       "    <tr>\n",
       "      <th>4</th>\n",
       "      <td>reuters_dev</td>\n",
       "      <td>10.810504</td>\n",
       "      <td>0.0001</td>\n",
       "      <td>-9.210340</td>\n",
       "    </tr>\n",
       "    <tr>\n",
       "      <th>5</th>\n",
       "      <td>reuters_test</td>\n",
       "      <td>11.134864</td>\n",
       "      <td>0.0001</td>\n",
       "      <td>-9.210340</td>\n",
       "    </tr>\n",
       "    <tr>\n",
       "      <th>6</th>\n",
       "      <td>gutenberg_train</td>\n",
       "      <td>10.551543</td>\n",
       "      <td>0.0001</td>\n",
       "      <td>-9.210340</td>\n",
       "    </tr>\n",
       "    <tr>\n",
       "      <th>7</th>\n",
       "      <td>gutenberg_dev</td>\n",
       "      <td>16.627832</td>\n",
       "      <td>0.0001</td>\n",
       "      <td>-9.210340</td>\n",
       "    </tr>\n",
       "    <tr>\n",
       "      <th>8</th>\n",
       "      <td>gutenberg_test</td>\n",
       "      <td>17.022804</td>\n",
       "      <td>0.0001</td>\n",
       "      <td>-9.210340</td>\n",
       "    </tr>\n",
       "    <tr>\n",
       "      <th>9</th>\n",
       "      <td>brown_train</td>\n",
       "      <td>30.939805</td>\n",
       "      <td>0.0010</td>\n",
       "      <td>-6.907755</td>\n",
       "    </tr>\n",
       "    <tr>\n",
       "      <th>10</th>\n",
       "      <td>brown_dev</td>\n",
       "      <td>58.378312</td>\n",
       "      <td>0.0010</td>\n",
       "      <td>-6.907755</td>\n",
       "    </tr>\n",
       "    <tr>\n",
       "      <th>11</th>\n",
       "      <td>brown_test</td>\n",
       "      <td>61.926183</td>\n",
       "      <td>0.0010</td>\n",
       "      <td>-6.907755</td>\n",
       "    </tr>\n",
       "    <tr>\n",
       "      <th>12</th>\n",
       "      <td>reuters_train</td>\n",
       "      <td>21.581451</td>\n",
       "      <td>0.0010</td>\n",
       "      <td>-6.907755</td>\n",
       "    </tr>\n",
       "    <tr>\n",
       "      <th>13</th>\n",
       "      <td>reuters_dev</td>\n",
       "      <td>35.316342</td>\n",
       "      <td>0.0010</td>\n",
       "      <td>-6.907755</td>\n",
       "    </tr>\n",
       "    <tr>\n",
       "      <th>14</th>\n",
       "      <td>reuters_test</td>\n",
       "      <td>37.099633</td>\n",
       "      <td>0.0010</td>\n",
       "      <td>-6.907755</td>\n",
       "    </tr>\n",
       "    <tr>\n",
       "      <th>15</th>\n",
       "      <td>gutenberg_train</td>\n",
       "      <td>31.168837</td>\n",
       "      <td>0.0010</td>\n",
       "      <td>-6.907755</td>\n",
       "    </tr>\n",
       "    <tr>\n",
       "      <th>16</th>\n",
       "      <td>gutenberg_dev</td>\n",
       "      <td>51.701666</td>\n",
       "      <td>0.0010</td>\n",
       "      <td>-6.907755</td>\n",
       "    </tr>\n",
       "    <tr>\n",
       "      <th>17</th>\n",
       "      <td>gutenberg_test</td>\n",
       "      <td>53.984866</td>\n",
       "      <td>0.0010</td>\n",
       "      <td>-6.907755</td>\n",
       "    </tr>\n",
       "    <tr>\n",
       "      <th>18</th>\n",
       "      <td>brown_train</td>\n",
       "      <td>106.111425</td>\n",
       "      <td>0.0050</td>\n",
       "      <td>-5.298317</td>\n",
       "    </tr>\n",
       "    <tr>\n",
       "      <th>19</th>\n",
       "      <td>brown_dev</td>\n",
       "      <td>199.200852</td>\n",
       "      <td>0.0050</td>\n",
       "      <td>-5.298317</td>\n",
       "    </tr>\n",
       "    <tr>\n",
       "      <th>20</th>\n",
       "      <td>brown_test</td>\n",
       "      <td>212.661568</td>\n",
       "      <td>0.0050</td>\n",
       "      <td>-5.298317</td>\n",
       "    </tr>\n",
       "    <tr>\n",
       "      <th>21</th>\n",
       "      <td>reuters_train</td>\n",
       "      <td>67.198275</td>\n",
       "      <td>0.0050</td>\n",
       "      <td>-5.298317</td>\n",
       "    </tr>\n",
       "    <tr>\n",
       "      <th>22</th>\n",
       "      <td>reuters_dev</td>\n",
       "      <td>110.267171</td>\n",
       "      <td>0.0050</td>\n",
       "      <td>-5.298317</td>\n",
       "    </tr>\n",
       "    <tr>\n",
       "      <th>23</th>\n",
       "      <td>reuters_test</td>\n",
       "      <td>117.098903</td>\n",
       "      <td>0.0050</td>\n",
       "      <td>-5.298317</td>\n",
       "    </tr>\n",
       "    <tr>\n",
       "      <th>24</th>\n",
       "      <td>gutenberg_train</td>\n",
       "      <td>92.663559</td>\n",
       "      <td>0.0050</td>\n",
       "      <td>-5.298317</td>\n",
       "    </tr>\n",
       "    <tr>\n",
       "      <th>25</th>\n",
       "      <td>gutenberg_dev</td>\n",
       "      <td>153.873460</td>\n",
       "      <td>0.0050</td>\n",
       "      <td>-5.298317</td>\n",
       "    </tr>\n",
       "    <tr>\n",
       "      <th>26</th>\n",
       "      <td>gutenberg_test</td>\n",
       "      <td>162.771317</td>\n",
       "      <td>0.0050</td>\n",
       "      <td>-5.298317</td>\n",
       "    </tr>\n",
       "    <tr>\n",
       "      <th>27</th>\n",
       "      <td>brown_train</td>\n",
       "      <td>189.091522</td>\n",
       "      <td>0.0100</td>\n",
       "      <td>-4.605170</td>\n",
       "    </tr>\n",
       "    <tr>\n",
       "      <th>28</th>\n",
       "      <td>brown_dev</td>\n",
       "      <td>353.554340</td>\n",
       "      <td>0.0100</td>\n",
       "      <td>-4.605170</td>\n",
       "    </tr>\n",
       "    <tr>\n",
       "      <th>29</th>\n",
       "      <td>brown_test</td>\n",
       "      <td>378.176355</td>\n",
       "      <td>0.0100</td>\n",
       "      <td>-4.605170</td>\n",
       "    </tr>\n",
       "    <tr>\n",
       "      <th>...</th>\n",
       "      <td>...</td>\n",
       "      <td>...</td>\n",
       "      <td>...</td>\n",
       "      <td>...</td>\n",
       "    </tr>\n",
       "    <tr>\n",
       "      <th>51</th>\n",
       "      <td>gutenberg_train</td>\n",
       "      <td>2231.650093</td>\n",
       "      <td>0.2000</td>\n",
       "      <td>-1.609438</td>\n",
       "    </tr>\n",
       "    <tr>\n",
       "      <th>52</th>\n",
       "      <td>gutenberg_dev</td>\n",
       "      <td>3681.240019</td>\n",
       "      <td>0.2000</td>\n",
       "      <td>-1.609438</td>\n",
       "    </tr>\n",
       "    <tr>\n",
       "      <th>53</th>\n",
       "      <td>gutenberg_test</td>\n",
       "      <td>3965.093814</td>\n",
       "      <td>0.2000</td>\n",
       "      <td>-1.609438</td>\n",
       "    </tr>\n",
       "    <tr>\n",
       "      <th>54</th>\n",
       "      <td>brown_train</td>\n",
       "      <td>6664.735219</td>\n",
       "      <td>0.5000</td>\n",
       "      <td>-0.693147</td>\n",
       "    </tr>\n",
       "    <tr>\n",
       "      <th>55</th>\n",
       "      <td>brown_dev</td>\n",
       "      <td>12356.420830</td>\n",
       "      <td>0.5000</td>\n",
       "      <td>-0.693147</td>\n",
       "    </tr>\n",
       "    <tr>\n",
       "      <th>56</th>\n",
       "      <td>brown_test</td>\n",
       "      <td>13297.458820</td>\n",
       "      <td>0.5000</td>\n",
       "      <td>-0.693147</td>\n",
       "    </tr>\n",
       "    <tr>\n",
       "      <th>57</th>\n",
       "      <td>reuters_train</td>\n",
       "      <td>4112.447214</td>\n",
       "      <td>0.5000</td>\n",
       "      <td>-0.693147</td>\n",
       "    </tr>\n",
       "    <tr>\n",
       "      <th>58</th>\n",
       "      <td>reuters_dev</td>\n",
       "      <td>6722.686452</td>\n",
       "      <td>0.5000</td>\n",
       "      <td>-0.693147</td>\n",
       "    </tr>\n",
       "    <tr>\n",
       "      <th>59</th>\n",
       "      <td>reuters_test</td>\n",
       "      <td>7243.552343</td>\n",
       "      <td>0.5000</td>\n",
       "      <td>-0.693147</td>\n",
       "    </tr>\n",
       "    <tr>\n",
       "      <th>60</th>\n",
       "      <td>gutenberg_train</td>\n",
       "      <td>5306.012523</td>\n",
       "      <td>0.5000</td>\n",
       "      <td>-0.693147</td>\n",
       "    </tr>\n",
       "    <tr>\n",
       "      <th>61</th>\n",
       "      <td>gutenberg_dev</td>\n",
       "      <td>8746.993416</td>\n",
       "      <td>0.5000</td>\n",
       "      <td>-0.693147</td>\n",
       "    </tr>\n",
       "    <tr>\n",
       "      <th>62</th>\n",
       "      <td>gutenberg_test</td>\n",
       "      <td>9441.175257</td>\n",
       "      <td>0.5000</td>\n",
       "      <td>-0.693147</td>\n",
       "    </tr>\n",
       "    <tr>\n",
       "      <th>63</th>\n",
       "      <td>brown_train</td>\n",
       "      <td>11730.362350</td>\n",
       "      <td>0.9000</td>\n",
       "      <td>-0.105361</td>\n",
       "    </tr>\n",
       "    <tr>\n",
       "      <th>64</th>\n",
       "      <td>brown_dev</td>\n",
       "      <td>21753.690360</td>\n",
       "      <td>0.9000</td>\n",
       "      <td>-0.105361</td>\n",
       "    </tr>\n",
       "    <tr>\n",
       "      <th>65</th>\n",
       "      <td>brown_test</td>\n",
       "      <td>23426.198120</td>\n",
       "      <td>0.9000</td>\n",
       "      <td>-0.105361</td>\n",
       "    </tr>\n",
       "    <tr>\n",
       "      <th>66</th>\n",
       "      <td>reuters_train</td>\n",
       "      <td>7266.655542</td>\n",
       "      <td>0.9000</td>\n",
       "      <td>-0.105361</td>\n",
       "    </tr>\n",
       "    <tr>\n",
       "      <th>67</th>\n",
       "      <td>reuters_dev</td>\n",
       "      <td>11880.882180</td>\n",
       "      <td>0.9000</td>\n",
       "      <td>-0.105361</td>\n",
       "    </tr>\n",
       "    <tr>\n",
       "      <th>68</th>\n",
       "      <td>reuters_test</td>\n",
       "      <td>12811.393780</td>\n",
       "      <td>0.9000</td>\n",
       "      <td>-0.105361</td>\n",
       "    </tr>\n",
       "    <tr>\n",
       "      <th>69</th>\n",
       "      <td>gutenberg_train</td>\n",
       "      <td>9325.160351</td>\n",
       "      <td>0.9000</td>\n",
       "      <td>-0.105361</td>\n",
       "    </tr>\n",
       "    <tr>\n",
       "      <th>70</th>\n",
       "      <td>gutenberg_dev</td>\n",
       "      <td>15368.796350</td>\n",
       "      <td>0.9000</td>\n",
       "      <td>-0.105361</td>\n",
       "    </tr>\n",
       "    <tr>\n",
       "      <th>71</th>\n",
       "      <td>gutenberg_test</td>\n",
       "      <td>16607.115020</td>\n",
       "      <td>0.9000</td>\n",
       "      <td>-0.105361</td>\n",
       "    </tr>\n",
       "    <tr>\n",
       "      <th>72</th>\n",
       "      <td>brown_train</td>\n",
       "      <td>12990.151450</td>\n",
       "      <td>1.0000</td>\n",
       "      <td>0.000000</td>\n",
       "    </tr>\n",
       "    <tr>\n",
       "      <th>73</th>\n",
       "      <td>brown_dev</td>\n",
       "      <td>24091.260300</td>\n",
       "      <td>1.0000</td>\n",
       "      <td>0.000000</td>\n",
       "    </tr>\n",
       "    <tr>\n",
       "      <th>74</th>\n",
       "      <td>brown_test</td>\n",
       "      <td>25946.514980</td>\n",
       "      <td>1.0000</td>\n",
       "      <td>0.000000</td>\n",
       "    </tr>\n",
       "    <tr>\n",
       "      <th>75</th>\n",
       "      <td>reuters_train</td>\n",
       "      <td>8051.971098</td>\n",
       "      <td>1.0000</td>\n",
       "      <td>0.000000</td>\n",
       "    </tr>\n",
       "    <tr>\n",
       "      <th>76</th>\n",
       "      <td>reuters_dev</td>\n",
       "      <td>13165.300330</td>\n",
       "      <td>1.0000</td>\n",
       "      <td>0.000000</td>\n",
       "    </tr>\n",
       "    <tr>\n",
       "      <th>77</th>\n",
       "      <td>reuters_test</td>\n",
       "      <td>14198.190230</td>\n",
       "      <td>1.0000</td>\n",
       "      <td>0.000000</td>\n",
       "    </tr>\n",
       "    <tr>\n",
       "      <th>78</th>\n",
       "      <td>gutenberg_train</td>\n",
       "      <td>10323.435280</td>\n",
       "      <td>1.0000</td>\n",
       "      <td>0.000000</td>\n",
       "    </tr>\n",
       "    <tr>\n",
       "      <th>79</th>\n",
       "      <td>gutenberg_dev</td>\n",
       "      <td>17013.503790</td>\n",
       "      <td>1.0000</td>\n",
       "      <td>0.000000</td>\n",
       "    </tr>\n",
       "    <tr>\n",
       "      <th>80</th>\n",
       "      <td>gutenberg_test</td>\n",
       "      <td>18387.762140</td>\n",
       "      <td>1.0000</td>\n",
       "      <td>0.000000</td>\n",
       "    </tr>\n",
       "  </tbody>\n",
       "</table>\n",
       "<p>81 rows × 4 columns</p>\n",
       "</div>"
      ],
      "text/plain": [
       "            dataset    perplexity   alpha  log_alpha\n",
       "0       brown_train      7.998141  0.0001  -9.210340\n",
       "1         brown_dev     14.143492  0.0001  -9.210340\n",
       "2        brown_test     14.792639  0.0001  -9.210340\n",
       "3     reuters_train      7.030132  0.0001  -9.210340\n",
       "4       reuters_dev     10.810504  0.0001  -9.210340\n",
       "5      reuters_test     11.134864  0.0001  -9.210340\n",
       "6   gutenberg_train     10.551543  0.0001  -9.210340\n",
       "7     gutenberg_dev     16.627832  0.0001  -9.210340\n",
       "8    gutenberg_test     17.022804  0.0001  -9.210340\n",
       "9       brown_train     30.939805  0.0010  -6.907755\n",
       "10        brown_dev     58.378312  0.0010  -6.907755\n",
       "11       brown_test     61.926183  0.0010  -6.907755\n",
       "12    reuters_train     21.581451  0.0010  -6.907755\n",
       "13      reuters_dev     35.316342  0.0010  -6.907755\n",
       "14     reuters_test     37.099633  0.0010  -6.907755\n",
       "15  gutenberg_train     31.168837  0.0010  -6.907755\n",
       "16    gutenberg_dev     51.701666  0.0010  -6.907755\n",
       "17   gutenberg_test     53.984866  0.0010  -6.907755\n",
       "18      brown_train    106.111425  0.0050  -5.298317\n",
       "19        brown_dev    199.200852  0.0050  -5.298317\n",
       "20       brown_test    212.661568  0.0050  -5.298317\n",
       "21    reuters_train     67.198275  0.0050  -5.298317\n",
       "22      reuters_dev    110.267171  0.0050  -5.298317\n",
       "23     reuters_test    117.098903  0.0050  -5.298317\n",
       "24  gutenberg_train     92.663559  0.0050  -5.298317\n",
       "25    gutenberg_dev    153.873460  0.0050  -5.298317\n",
       "26   gutenberg_test    162.771317  0.0050  -5.298317\n",
       "27      brown_train    189.091522  0.0100  -4.605170\n",
       "28        brown_dev    353.554340  0.0100  -4.605170\n",
       "29       brown_test    378.176355  0.0100  -4.605170\n",
       "..              ...           ...     ...        ...\n",
       "51  gutenberg_train   2231.650093  0.2000  -1.609438\n",
       "52    gutenberg_dev   3681.240019  0.2000  -1.609438\n",
       "53   gutenberg_test   3965.093814  0.2000  -1.609438\n",
       "54      brown_train   6664.735219  0.5000  -0.693147\n",
       "55        brown_dev  12356.420830  0.5000  -0.693147\n",
       "56       brown_test  13297.458820  0.5000  -0.693147\n",
       "57    reuters_train   4112.447214  0.5000  -0.693147\n",
       "58      reuters_dev   6722.686452  0.5000  -0.693147\n",
       "59     reuters_test   7243.552343  0.5000  -0.693147\n",
       "60  gutenberg_train   5306.012523  0.5000  -0.693147\n",
       "61    gutenberg_dev   8746.993416  0.5000  -0.693147\n",
       "62   gutenberg_test   9441.175257  0.5000  -0.693147\n",
       "63      brown_train  11730.362350  0.9000  -0.105361\n",
       "64        brown_dev  21753.690360  0.9000  -0.105361\n",
       "65       brown_test  23426.198120  0.9000  -0.105361\n",
       "66    reuters_train   7266.655542  0.9000  -0.105361\n",
       "67      reuters_dev  11880.882180  0.9000  -0.105361\n",
       "68     reuters_test  12811.393780  0.9000  -0.105361\n",
       "69  gutenberg_train   9325.160351  0.9000  -0.105361\n",
       "70    gutenberg_dev  15368.796350  0.9000  -0.105361\n",
       "71   gutenberg_test  16607.115020  0.9000  -0.105361\n",
       "72      brown_train  12990.151450  1.0000   0.000000\n",
       "73        brown_dev  24091.260300  1.0000   0.000000\n",
       "74       brown_test  25946.514980  1.0000   0.000000\n",
       "75    reuters_train   8051.971098  1.0000   0.000000\n",
       "76      reuters_dev  13165.300330  1.0000   0.000000\n",
       "77     reuters_test  14198.190230  1.0000   0.000000\n",
       "78  gutenberg_train  10323.435280  1.0000   0.000000\n",
       "79    gutenberg_dev  17013.503790  1.0000   0.000000\n",
       "80   gutenberg_test  18387.762140  1.0000   0.000000\n",
       "\n",
       "[81 rows x 4 columns]"
      ]
     },
     "execution_count": 32,
     "metadata": {},
     "output_type": "execute_result"
    }
   ],
   "source": [
    "df"
   ]
  },
  {
   "cell_type": "code",
   "execution_count": 22,
   "metadata": {},
   "outputs": [],
   "source": [
    "df['log_alpha'] = df['alpha'].apply(lambda x: math.log(x))"
   ]
  },
  {
   "cell_type": "code",
   "execution_count": 24,
   "metadata": {},
   "outputs": [
    {
     "data": {
      "text/html": [
       "<div>\n",
       "<style scoped>\n",
       "    .dataframe tbody tr th:only-of-type {\n",
       "        vertical-align: middle;\n",
       "    }\n",
       "\n",
       "    .dataframe tbody tr th {\n",
       "        vertical-align: top;\n",
       "    }\n",
       "\n",
       "    .dataframe thead th {\n",
       "        text-align: right;\n",
       "    }\n",
       "</style>\n",
       "<table border=\"1\" class=\"dataframe\">\n",
       "  <thead>\n",
       "    <tr style=\"text-align: right;\">\n",
       "      <th></th>\n",
       "      <th>dataset</th>\n",
       "      <th>perplexity</th>\n",
       "      <th>alpha</th>\n",
       "      <th>log_alpha</th>\n",
       "    </tr>\n",
       "  </thead>\n",
       "  <tbody>\n",
       "    <tr>\n",
       "      <th>0</th>\n",
       "      <td>brown_train</td>\n",
       "      <td>7.998141</td>\n",
       "      <td>0.0001</td>\n",
       "      <td>-9.210340</td>\n",
       "    </tr>\n",
       "    <tr>\n",
       "      <th>9</th>\n",
       "      <td>brown_train</td>\n",
       "      <td>30.939805</td>\n",
       "      <td>0.0010</td>\n",
       "      <td>-6.907755</td>\n",
       "    </tr>\n",
       "    <tr>\n",
       "      <th>18</th>\n",
       "      <td>brown_train</td>\n",
       "      <td>106.111425</td>\n",
       "      <td>0.0050</td>\n",
       "      <td>-5.298317</td>\n",
       "    </tr>\n",
       "    <tr>\n",
       "      <th>27</th>\n",
       "      <td>brown_train</td>\n",
       "      <td>189.091522</td>\n",
       "      <td>0.0100</td>\n",
       "      <td>-4.605170</td>\n",
       "    </tr>\n",
       "    <tr>\n",
       "      <th>36</th>\n",
       "      <td>brown_train</td>\n",
       "      <td>1467.987823</td>\n",
       "      <td>0.1000</td>\n",
       "      <td>-2.302585</td>\n",
       "    </tr>\n",
       "    <tr>\n",
       "      <th>45</th>\n",
       "      <td>brown_train</td>\n",
       "      <td>2797.972136</td>\n",
       "      <td>0.2000</td>\n",
       "      <td>-1.609438</td>\n",
       "    </tr>\n",
       "    <tr>\n",
       "      <th>54</th>\n",
       "      <td>brown_train</td>\n",
       "      <td>6664.735219</td>\n",
       "      <td>0.5000</td>\n",
       "      <td>-0.693147</td>\n",
       "    </tr>\n",
       "    <tr>\n",
       "      <th>63</th>\n",
       "      <td>brown_train</td>\n",
       "      <td>11730.362350</td>\n",
       "      <td>0.9000</td>\n",
       "      <td>-0.105361</td>\n",
       "    </tr>\n",
       "    <tr>\n",
       "      <th>72</th>\n",
       "      <td>brown_train</td>\n",
       "      <td>12990.151450</td>\n",
       "      <td>1.0000</td>\n",
       "      <td>0.000000</td>\n",
       "    </tr>\n",
       "  </tbody>\n",
       "</table>\n",
       "</div>"
      ],
      "text/plain": [
       "        dataset    perplexity   alpha  log_alpha\n",
       "0   brown_train      7.998141  0.0001  -9.210340\n",
       "9   brown_train     30.939805  0.0010  -6.907755\n",
       "18  brown_train    106.111425  0.0050  -5.298317\n",
       "27  brown_train    189.091522  0.0100  -4.605170\n",
       "36  brown_train   1467.987823  0.1000  -2.302585\n",
       "45  brown_train   2797.972136  0.2000  -1.609438\n",
       "54  brown_train   6664.735219  0.5000  -0.693147\n",
       "63  brown_train  11730.362350  0.9000  -0.105361\n",
       "72  brown_train  12990.151450  1.0000   0.000000"
      ]
     },
     "execution_count": 24,
     "metadata": {},
     "output_type": "execute_result"
    }
   ],
   "source": [
    "df_brown_train = df.iloc[::9, :]\n",
    "df_brown_train"
   ]
  },
  {
   "cell_type": "code",
   "execution_count": 28,
   "metadata": {},
   "outputs": [
    {
     "data": {
      "text/html": [
       "<div>\n",
       "<style scoped>\n",
       "    .dataframe tbody tr th:only-of-type {\n",
       "        vertical-align: middle;\n",
       "    }\n",
       "\n",
       "    .dataframe tbody tr th {\n",
       "        vertical-align: top;\n",
       "    }\n",
       "\n",
       "    .dataframe thead th {\n",
       "        text-align: right;\n",
       "    }\n",
       "</style>\n",
       "<table border=\"1\" class=\"dataframe\">\n",
       "  <thead>\n",
       "    <tr style=\"text-align: right;\">\n",
       "      <th></th>\n",
       "      <th>dataset</th>\n",
       "      <th>perplexity</th>\n",
       "      <th>alpha</th>\n",
       "      <th>log_alpha</th>\n",
       "    </tr>\n",
       "  </thead>\n",
       "  <tbody>\n",
       "    <tr>\n",
       "      <th>1</th>\n",
       "      <td>brown_dev</td>\n",
       "      <td>14.143492</td>\n",
       "      <td>0.0001</td>\n",
       "      <td>-9.210340</td>\n",
       "    </tr>\n",
       "    <tr>\n",
       "      <th>10</th>\n",
       "      <td>brown_dev</td>\n",
       "      <td>58.378312</td>\n",
       "      <td>0.0010</td>\n",
       "      <td>-6.907755</td>\n",
       "    </tr>\n",
       "    <tr>\n",
       "      <th>19</th>\n",
       "      <td>brown_dev</td>\n",
       "      <td>199.200852</td>\n",
       "      <td>0.0050</td>\n",
       "      <td>-5.298317</td>\n",
       "    </tr>\n",
       "    <tr>\n",
       "      <th>28</th>\n",
       "      <td>brown_dev</td>\n",
       "      <td>353.554340</td>\n",
       "      <td>0.0100</td>\n",
       "      <td>-4.605170</td>\n",
       "    </tr>\n",
       "    <tr>\n",
       "      <th>37</th>\n",
       "      <td>brown_dev</td>\n",
       "      <td>2722.976882</td>\n",
       "      <td>0.1000</td>\n",
       "      <td>-2.302585</td>\n",
       "    </tr>\n",
       "    <tr>\n",
       "      <th>46</th>\n",
       "      <td>brown_dev</td>\n",
       "      <td>5187.259577</td>\n",
       "      <td>0.2000</td>\n",
       "      <td>-1.609438</td>\n",
       "    </tr>\n",
       "    <tr>\n",
       "      <th>55</th>\n",
       "      <td>brown_dev</td>\n",
       "      <td>12356.420830</td>\n",
       "      <td>0.5000</td>\n",
       "      <td>-0.693147</td>\n",
       "    </tr>\n",
       "    <tr>\n",
       "      <th>64</th>\n",
       "      <td>brown_dev</td>\n",
       "      <td>21753.690360</td>\n",
       "      <td>0.9000</td>\n",
       "      <td>-0.105361</td>\n",
       "    </tr>\n",
       "    <tr>\n",
       "      <th>73</th>\n",
       "      <td>brown_dev</td>\n",
       "      <td>24091.260300</td>\n",
       "      <td>1.0000</td>\n",
       "      <td>0.000000</td>\n",
       "    </tr>\n",
       "  </tbody>\n",
       "</table>\n",
       "</div>"
      ],
      "text/plain": [
       "      dataset    perplexity   alpha  log_alpha\n",
       "1   brown_dev     14.143492  0.0001  -9.210340\n",
       "10  brown_dev     58.378312  0.0010  -6.907755\n",
       "19  brown_dev    199.200852  0.0050  -5.298317\n",
       "28  brown_dev    353.554340  0.0100  -4.605170\n",
       "37  brown_dev   2722.976882  0.1000  -2.302585\n",
       "46  brown_dev   5187.259577  0.2000  -1.609438\n",
       "55  brown_dev  12356.420830  0.5000  -0.693147\n",
       "64  brown_dev  21753.690360  0.9000  -0.105361\n",
       "73  brown_dev  24091.260300  1.0000   0.000000"
      ]
     },
     "execution_count": 28,
     "metadata": {},
     "output_type": "execute_result"
    }
   ],
   "source": [
    "df_brown_dev = df.iloc[1::9, :]\n",
    "df_brown_dev"
   ]
  },
  {
   "cell_type": "code",
   "execution_count": 30,
   "metadata": {},
   "outputs": [
    {
     "data": {
      "text/html": [
       "<div>\n",
       "<style scoped>\n",
       "    .dataframe tbody tr th:only-of-type {\n",
       "        vertical-align: middle;\n",
       "    }\n",
       "\n",
       "    .dataframe tbody tr th {\n",
       "        vertical-align: top;\n",
       "    }\n",
       "\n",
       "    .dataframe thead th {\n",
       "        text-align: right;\n",
       "    }\n",
       "</style>\n",
       "<table border=\"1\" class=\"dataframe\">\n",
       "  <thead>\n",
       "    <tr style=\"text-align: right;\">\n",
       "      <th></th>\n",
       "      <th>dataset</th>\n",
       "      <th>perplexity</th>\n",
       "      <th>alpha</th>\n",
       "      <th>log_alpha</th>\n",
       "    </tr>\n",
       "  </thead>\n",
       "  <tbody>\n",
       "    <tr>\n",
       "      <th>2</th>\n",
       "      <td>brown_test</td>\n",
       "      <td>14.792639</td>\n",
       "      <td>0.0001</td>\n",
       "      <td>-9.210340</td>\n",
       "    </tr>\n",
       "    <tr>\n",
       "      <th>11</th>\n",
       "      <td>brown_test</td>\n",
       "      <td>61.926183</td>\n",
       "      <td>0.0010</td>\n",
       "      <td>-6.907755</td>\n",
       "    </tr>\n",
       "    <tr>\n",
       "      <th>20</th>\n",
       "      <td>brown_test</td>\n",
       "      <td>212.661568</td>\n",
       "      <td>0.0050</td>\n",
       "      <td>-5.298317</td>\n",
       "    </tr>\n",
       "    <tr>\n",
       "      <th>29</th>\n",
       "      <td>brown_test</td>\n",
       "      <td>378.176355</td>\n",
       "      <td>0.0100</td>\n",
       "      <td>-4.605170</td>\n",
       "    </tr>\n",
       "    <tr>\n",
       "      <th>38</th>\n",
       "      <td>brown_test</td>\n",
       "      <td>2924.731385</td>\n",
       "      <td>0.1000</td>\n",
       "      <td>-2.302585</td>\n",
       "    </tr>\n",
       "    <tr>\n",
       "      <th>47</th>\n",
       "      <td>brown_test</td>\n",
       "      <td>5576.345177</td>\n",
       "      <td>0.2000</td>\n",
       "      <td>-1.609438</td>\n",
       "    </tr>\n",
       "    <tr>\n",
       "      <th>56</th>\n",
       "      <td>brown_test</td>\n",
       "      <td>13297.458820</td>\n",
       "      <td>0.5000</td>\n",
       "      <td>-0.693147</td>\n",
       "    </tr>\n",
       "    <tr>\n",
       "      <th>65</th>\n",
       "      <td>brown_test</td>\n",
       "      <td>23426.198120</td>\n",
       "      <td>0.9000</td>\n",
       "      <td>-0.105361</td>\n",
       "    </tr>\n",
       "    <tr>\n",
       "      <th>74</th>\n",
       "      <td>brown_test</td>\n",
       "      <td>25946.514980</td>\n",
       "      <td>1.0000</td>\n",
       "      <td>0.000000</td>\n",
       "    </tr>\n",
       "  </tbody>\n",
       "</table>\n",
       "</div>"
      ],
      "text/plain": [
       "       dataset    perplexity   alpha  log_alpha\n",
       "2   brown_test     14.792639  0.0001  -9.210340\n",
       "11  brown_test     61.926183  0.0010  -6.907755\n",
       "20  brown_test    212.661568  0.0050  -5.298317\n",
       "29  brown_test    378.176355  0.0100  -4.605170\n",
       "38  brown_test   2924.731385  0.1000  -2.302585\n",
       "47  brown_test   5576.345177  0.2000  -1.609438\n",
       "56  brown_test  13297.458820  0.5000  -0.693147\n",
       "65  brown_test  23426.198120  0.9000  -0.105361\n",
       "74  brown_test  25946.514980  1.0000   0.000000"
      ]
     },
     "execution_count": 30,
     "metadata": {},
     "output_type": "execute_result"
    }
   ],
   "source": [
    "df_brown_test = df.iloc[2::9, :]\n",
    "df_brown_test"
   ]
  },
  {
   "cell_type": "code",
   "execution_count": 31,
   "metadata": {},
   "outputs": [
    {
     "data": {
      "text/plain": [
       "<matplotlib.axes._subplots.AxesSubplot at 0x1a21e0bac8>"
      ]
     },
     "execution_count": 31,
     "metadata": {},
     "output_type": "execute_result"
    },
    {
     "data": {
      "image/png": "[encoded data removed]",
      "text/plain": [
       "<Figure size 432x288 with 1 Axes>"
      ]
     },
     "metadata": {
      "needs_background": "light"
     },
     "output_type": "display_data"
    },
    {
     "data": {
      "image/png": "[encoded data removed]",
      "text/plain": [
       "<Figure size 432x288 with 1 Axes>"
      ]
     },
     "metadata": {
      "needs_background": "light"
     },
     "output_type": "display_data"
    },
    {
     "data": {
      "image/png": "[encoded data removed]",
      "text/plain": [
       "<Figure size 432x288 with 1 Axes>"
      ]
     },
     "metadata": {
      "needs_background": "light"
     },
     "output_type": "display_data"
    }
   ],
   "source": [
    "df_brown_train.plot.line(x='log_alpha', y = 'perplexity',title='perplexity vs log-alpha')\n",
    "df_brown_dev.plot.line(x='log_alpha', y = 'perplexity',title='perplexity vs log-alpha')\n",
    "df_brown_test.plot.line(x='log_alpha', y = 'perplexity',title='perplexity vs log-alpha')"
   ]
  }
 ],
 "metadata": {
  "kernelspec": {
   "display_name": "Python 3",
   "language": "python",
   "name": "python3"
  },
  "language_info": {
   "codemirror_mode": {
    "name": "ipython",
    "version": 3
   },
   "file_extension": ".py",
   "mimetype": "text/x-python",
   "name": "python",
   "nbconvert_exporter": "python",
   "pygments_lexer": "ipython3",
   "version": "3.7.3"
  }
 },
 "nbformat": 4,
 "nbformat_minor": 2
}
